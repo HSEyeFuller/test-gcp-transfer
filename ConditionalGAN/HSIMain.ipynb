{
 "cells": [
  {
   "cell_type": "code",
   "execution_count": 1,
   "metadata": {},
   "outputs": [],
   "source": [
    "%load_ext autoreload\n",
    "%autoreload 2"
   ]
  },
  {
   "cell_type": "code",
   "execution_count": null,
   "metadata": {},
   "outputs": [],
   "source": [
    "!wget 'https://firebasestorage.googleapis.com/v0/b/hseye-fff80.appspot.com/o/144maps.npy?alt=media&token=c0645160-cd9e-44fa-b6d0-54bb56159cf5'"
   ]
  },
  {
   "cell_type": "code",
   "execution_count": null,
   "metadata": {},
   "outputs": [],
   "source": [
    "!wget 'https://firebasestorage.googleapis.com/v0/b/hseye-fff80.appspot.com/o/20kGauss.npy?alt=media&token=8658a6f2-57b2-4877-8041-17ad52c9e139'"
   ]
  },
  {
   "cell_type": "markdown",
   "metadata": {},
   "source": [
    "%load_ext tensorboard\n"
   ]
  },
  {
   "cell_type": "code",
   "execution_count": null,
   "metadata": {},
   "outputs": [],
   "source": [
    "#'https://firebasestorage.googleapis.com/v0/b/homesteadfbla-31a97.appspot.com/o/maps.mat?alt=media&token=37b8090b-1030-4167-8f8b-6c3bbf6a2760', 'https://firebasestorage.googleapis.com/v0/b/hseye-fff80.appspot.com/o/RealData.zip?alt=media&token=7656e1e7-836b-4fdf-adc0-cff354a93b9c', 'https://firebasestorage.googleapis.com/v0/b/secrets-91dd7.appspot.com/o/144maps.mat?alt=media&token=f3efe84d-07cd-49f9-ab40-983d7011c70f'"
   ]
  },
  {
   "cell_type": "code",
   "execution_count": null,
   "metadata": {},
   "outputs": [],
   "source": [
    "!pip install tensorflow"
   ]
  },
  {
   "cell_type": "code",
   "execution_count": 2,
   "metadata": {},
   "outputs": [
    {
     "name": "stdout",
     "output_type": "stream",
     "text": [
      "--2022-07-10 00:53:27--  https://firebasestorage.googleapis.com/v0/b/hseye-fff80.appspot.com/o/20kGauss.npy?alt=media&token=8658a6f2-57b2-4877-8041-17ad52c9e139\n",
      "Resolving firebasestorage.googleapis.com (firebasestorage.googleapis.com)... 142.251.8.95, 2404:6800:4008:c15::5f\n",
      "Connecting to firebasestorage.googleapis.com (firebasestorage.googleapis.com)|142.251.8.95|:443... connected.\n",
      "HTTP request sent, awaiting response... 200 OK\n",
      "Length: 3317760128 (3.1G) [application/octet-stream]\n",
      "Saving to: ‘20kGauss.npy?alt=media&token=8658a6f2-57b2-4877-8041-17ad52c9e139’\n",
      "\n",
      "20kGauss.npy?alt=me 100%[===================>]   3.09G  91.2MB/s    in 35s     \n",
      "\n",
      "2022-07-10 00:54:04 (90.2 MB/s) - ‘20kGauss.npy?alt=media&token=8658a6f2-57b2-4877-8041-17ad52c9e139’ saved [3317760128/3317760128]\n",
      "\n"
     ]
    }
   ],
   "source": [
    "!wget 'https://firebasestorage.googleapis.com/v0/b/hseye-fff80.appspot.com/o/20kGauss.npy?alt=media&token=8658a6f2-57b2-4877-8041-17ad52c9e139'"
   ]
  },
  {
   "cell_type": "code",
   "execution_count": null,
   "metadata": {},
   "outputs": [],
   "source": [
    "np.load(\"20kGauss.npy\")"
   ]
  },
  {
   "cell_type": "code",
   "execution_count": null,
   "metadata": {},
   "outputs": [],
   "source": [
    "import shutil\n",
    "shutil.unpack_archive(\"RealData.zip\")"
   ]
  },
  {
   "cell_type": "code",
   "execution_count": null,
   "metadata": {},
   "outputs": [],
   "source": [
    "!pip install firebase_admin"
   ]
  },
  {
   "cell_type": "code",
   "execution_count": 2,
   "metadata": {},
   "outputs": [],
   "source": [
    "from Model import Model\n",
    "from Losses import Losses\n",
    "from ModelEvaluation import ModelEvaluation\n",
    "from matplotlib import pyplot as plt\n",
    "import tensorflow as tf\n",
    "import numpy as np\n",
    "import scipy.io\n",
    "import numpy as np\n",
    "from DataGenerator import DataGenerator\n",
    "from TrainingManager import TrainingManager\n",
    "from Database import Database\n",
    "# from VidTrainingManager import VidTrainingManager\n",
    "from VideoGenerator import VideoGenerator\n"
   ]
  },
  {
   "cell_type": "code",
   "execution_count": 3,
   "metadata": {},
   "outputs": [],
   "source": [
    "generator = VideoGenerator(topNm = 2000)\n"
   ]
  },
  {
   "cell_type": "code",
   "execution_count": 4,
   "metadata": {},
   "outputs": [
    {
     "name": "stderr",
     "output_type": "stream",
     "text": [
      "  0%|          | 0/5 [00:00<?, ?it/s]"
     ]
    },
    {
     "name": "stdout",
     "output_type": "stream",
     "text": [
      "status 0\n"
     ]
    },
    {
     "name": "stderr",
     "output_type": "stream",
     "text": [
      " 20%|██        | 1/5 [00:02<00:08,  2.01s/it]"
     ]
    },
    {
     "name": "stdout",
     "output_type": "stream",
     "text": [
      "status 1\n"
     ]
    },
    {
     "name": "stderr",
     "output_type": "stream",
     "text": [
      " 40%|████      | 2/5 [00:02<00:03,  1.16s/it]"
     ]
    },
    {
     "name": "stdout",
     "output_type": "stream",
     "text": [
      "status 2\n"
     ]
    },
    {
     "name": "stderr",
     "output_type": "stream",
     "text": [
      " 60%|██████    | 3/5 [00:03<00:01,  1.13it/s]"
     ]
    },
    {
     "name": "stdout",
     "output_type": "stream",
     "text": [
      "status 3\n"
     ]
    },
    {
     "name": "stderr",
     "output_type": "stream",
     "text": [
      " 80%|████████  | 4/5 [00:03<00:00,  1.32it/s]"
     ]
    },
    {
     "name": "stdout",
     "output_type": "stream",
     "text": [
      "status 4\n"
     ]
    },
    {
     "name": "stderr",
     "output_type": "stream",
     "text": [
      "100%|██████████| 5/5 [00:04<00:00,  1.17it/s]\n"
     ]
    }
   ],
   "source": [
    "images, cleanImages, maps = generator.generateVideos(5)"
   ]
  },
  {
   "cell_type": "code",
   "execution_count": 5,
   "metadata": {},
   "outputs": [],
   "source": [
    "def auxSlice(content, channels):\n",
    "    numVid = content.shape[0]\n",
    "    numFrame = content.shape[1]\n",
    "    width = content.shape[2]\n",
    "    height = content.shape[3]\n",
    "    \n",
    "    \n",
    "    slices = np.zeros((numVid, numFrame*width, height, channels))\n",
    "        \n",
    "    for i in range(numVid):\n",
    "        stack = []\n",
    "        for k in range(numFrame):\n",
    "            stack.append(content[i][k].reshape(width, height, channels))\n",
    "        slices[i] = np.vstack(stack)\n",
    "        \n",
    "        \n",
    "    return slices\n",
    "\n",
    "        "
   ]
  },
  {
   "cell_type": "code",
   "execution_count": 6,
   "metadata": {},
   "outputs": [],
   "source": [
    "from matplotlib import pyplot as plt\n",
    "import heapq\n",
    "import csv\n",
    "from matplotlib import cm\n",
    "\n",
    "def showImage(image):\n",
    "    data = np.reshape(image, (image.shape[0],image.shape[1],3))\n",
    "    plt.imshow(imRegulate(data), interpolation='nearest')\n",
    "    return plt.show()\n",
    "    \n",
    "    \n",
    "def showMap(depthMap):\n",
    "\n",
    "    d1 = depthMap.shape[0]\n",
    "    d2 = depthMap.shape[1]\n",
    "    \n",
    "    pData = np.reshape(depthMap, (d1,d2))\n",
    "\n",
    "    fig = plt.figure(figsize = (5,5))\n",
    "    ax1 = fig.add_subplot(projection='3d')\n",
    "\n",
    "    x = np.arange(0, d1)\n",
    "    y = np.arange(0, d2)\n",
    "    \n",
    "    X, Y = np.meshgrid(x, y)\n",
    "    surf = ax1.plot_surface(X, Y, pData, cmap = cm.coolwarm)\n",
    "\n",
    "    ax1.set_zlabel(\"Thickness\" + \" (\" + \"nm\" + \")\")\n",
    "    ax1.set_title('Patient Tear Film Thickness Profile')\n",
    "\n",
    "\n",
    "\n",
    "    return plt.show()\n",
    "    \n",
    "        \n",
    "def imRegulate(data):\n",
    "    m = np.max(data)\n",
    "    mi = np.min(data)\n",
    "    norm = ((data - mi) / (m - mi))*255\n",
    "    return norm.astype(np.uint8)\n",
    "\n",
    "\n",
    "def tRegulate(data):\n",
    "    data = tf.truediv(\n",
    "       tf.subtract(\n",
    "          data, \n",
    "          tf.reduce_min(data)\n",
    "       ), \n",
    "       tf.subtract(\n",
    "          tf.reduce_max(data), \n",
    "          tf.reduce_min(data)\n",
    "       )\n",
    "    )\n",
    "    return tf.math.multiply(data,5000)\n",
    "\n",
    "@tf.custom_gradient\n",
    "def tCycle(depth):\n",
    "    depth = tRegulate(depth)\n",
    "    depth = tf.convert_to_tensor(depth)\n",
    "    depth = tf.cast(tf.reshape(depth, (48*48)), tf.int32).numpy()\n",
    "    print(depth)\n",
    "\n",
    "    def grad(upstream):\n",
    "            values = dColorMap[[depth]]\n",
    "            ret = tf.convert_to_tensor(values.reshape(1,48,48,3).astype(np.float32))\n",
    "            return ret * upstream\n",
    "    \n",
    "    values = colorMap[[depth]]\n",
    "    return tf.convert_to_tensor(values.reshape(1,48,48,3).astype(np.float32)), grad\n"
   ]
  },
  {
   "cell_type": "code",
   "execution_count": null,
   "metadata": {},
   "outputs": [],
   "source": [
    "maps = np.array(scipy.io.loadmat('LARGEmaps.mat')['maps'])"
   ]
  },
  {
   "cell_type": "code",
   "execution_count": null,
   "metadata": {},
   "outputs": [],
   "source": [
    "import os\n",
    "path = \"/opt/conda/lib/python3.7/site-packages/models/images/\"\n",
    "counter = 1\n",
    "for f in os.listdir(path):\n",
    "    suffix = f.split('.')[-1]\n",
    "    if suffix == 'jpg' or suffix == 'png':\n",
    "        new = '{}.{}'.format(str(counter), suffix)\n",
    "        os.rename(path + f, path + new)\n",
    "        counter = int(counter) + 1"
   ]
  },
  {
   "cell_type": "code",
   "execution_count": null,
   "metadata": {},
   "outputs": [],
   "source": [
    "database = Database()"
   ]
  },
  {
   "cell_type": "code",
   "execution_count": null,
   "metadata": {},
   "outputs": [],
   "source": [
    "losses = Losses()"
   ]
  },
  {
   "cell_type": "code",
   "execution_count": null,
   "metadata": {},
   "outputs": [],
   "source": [
    "noisyRGB = {\n",
    "    \"gen_down\" : [512,1024,2048],\n",
    "    \"gen_up\": [512,1024,2048],\n",
    "    \"gen_dropout\" : [True, False, False],\n",
    "    \"disc_down\": [32, 64, 128, 256],\n",
    "    \"gen_lr\": 0.002,\n",
    "    \"gen_b1\": 0.5,\n",
    "    \"disc_lr\" : 0.002,\n",
    "    \"disc_b1\": 0.5,\n",
    "    \"epochs\": 50,\n",
    "    \"time\": database.fetchDate(),\n",
    "    \"name\" : \"longtest10/\",\n",
    "    \"hsi\" : False,\n",
    "    \"numPerlin\": 5000,\n",
    "    \"numGaussian\": 20000,\n",
    "    \"topNm\": 2000,\n",
    "    \"notes\": \"Noisy, 0.1\",\n",
    "    \"optimalCheckpoint\": 10,\n",
    "    \"std\": 0.1,\n",
    "    \"d1\": 1728,\n",
    "    \"d2\": 144\n",
    "}"
   ]
  },
  {
   "cell_type": "code",
   "execution_count": null,
   "metadata": {},
   "outputs": [],
   "source": [
    "vidRGB = {\n",
    "    \"gen_down\" : [128,256,512],\n",
    "    \"gen_up\": [128,256,512],\n",
    "    \"gen_dropout\" : [True, True, False],\n",
    "    \"disc_down\": [32],\n",
    "    \"gen_lr\": 0.0002,\n",
    "    \"gen_b1\": 0.5,\n",
    "    \"disc_lr\" : 0.0002,\n",
    "    \"disc_b1\": 0.5,\n",
    "    \"epochs\": 6,\n",
    "    \"time\": database.fetchDate(),\n",
    "    \"name\" : \"longtest1\",\n",
    "    \"topNm\": 5000,\n",
    "    \"notes\": \"Noisy, 0.1\",\n",
    "    \"optimalCheckpoint\": 10,\n",
    "    \"numVid\": 10, \n",
    "    \"d1\": 1728, \n",
    "    \"d2\": 144\n",
    "}"
   ]
  },
  {
   "cell_type": "code",
   "execution_count": null,
   "metadata": {},
   "outputs": [],
   "source": []
  },
  {
   "cell_type": "code",
   "execution_count": null,
   "metadata": {},
   "outputs": [],
   "source": [
    "noisyRGBManager = TrainingManager(noisyRGB, auxSlice(images, 3), auxSlice(maps, 1), auxSlice(images, 3) ,auxSlice(maps, 1))"
   ]
  },
  {
   "cell_type": "code",
   "execution_count": null,
   "metadata": {},
   "outputs": [],
   "source": []
  },
  {
   "cell_type": "code",
   "execution_count": null,
   "metadata": {},
   "outputs": [],
   "source": [
    "noisyRGBManager.previewGenerator()"
   ]
  },
  {
   "cell_type": "code",
   "execution_count": null,
   "metadata": {},
   "outputs": [],
   "source": [
    "noisyRGBManager.previewDiscriminator()"
   ]
  },
  {
   "cell_type": "code",
   "execution_count": null,
   "metadata": {},
   "outputs": [],
   "source": [
    "noisyRGBManager.fit()"
   ]
  },
  {
   "cell_type": "code",
   "execution_count": null,
   "metadata": {},
   "outputs": [],
   "source": [
    "#noisyRGBManager.fit()"
   ]
  },
  {
   "cell_type": "code",
   "execution_count": null,
   "metadata": {},
   "outputs": [],
   "source": [
    "# q1m = TrainingManager(q1)\n",
    "# q2m = TrainingManager(q2)\n",
    "q4m = TrainingManager(q4)\n"
   ]
  },
  {
   "cell_type": "code",
   "execution_count": null,
   "metadata": {},
   "outputs": [],
   "source": [
    "from CrossModelEvaluator import CrossModelEvaluator"
   ]
  },
  {
   "cell_type": "code",
   "execution_count": null,
   "metadata": {},
   "outputs": [],
   "source": [
    "cross = CrossModelEvaluator()"
   ]
  },
  {
   "cell_type": "code",
   "execution_count": null,
   "metadata": {},
   "outputs": [],
   "source": [
    "cross.compareModels([\"noisy_hsi_1\", \"noisy_rgb_1\"], file = \"test7.csv\", stds = [0.4,0.5,0.6], checkpoint = 6)"
   ]
  },
  {
   "cell_type": "code",
   "execution_count": null,
   "metadata": {},
   "outputs": [],
   "source": []
  },
  {
   "cell_type": "code",
   "execution_count": null,
   "metadata": {},
   "outputs": [],
   "source": [
    "    def fetchManagers(sessions, checkpoint):\n",
    "        managers = []\n",
    "        for session in sessions:\n",
    "            manager = TrainingManager(database.fetchModel(session))\n",
    "            if checkpoint == -1:\n",
    "                manager.restoreLatestCheckpoint()\n",
    "            else:\n",
    "                manager.restoreCheckpoint(checkpoint)\n",
    "            \n",
    "            managers.append(manager)\n",
    "        return managers"
   ]
  },
  {
   "cell_type": "code",
   "execution_count": null,
   "metadata": {},
   "outputs": [],
   "source": [
    "managers = fetchManagers([\"second_train_mixed_hsi\"], -1)\n"
   ]
  },
  {
   "cell_type": "code",
   "execution_count": null,
   "metadata": {},
   "outputs": [],
   "source": []
  }
 ],
 "metadata": {
  "accelerator": "GPU",
  "colab": {
   "collapsed_sections": [],
   "name": "pix2pix.ipynb",
   "toc_visible": true
  },
  "environment": {
   "kernel": "python3",
   "name": "tf2-gpu.2-8.m94",
   "type": "gcloud",
   "uri": "gcr.io/deeplearning-platform-release/tf2-gpu.2-8:m94"
  },
  "kernelspec": {
   "display_name": "Python 3",
   "language": "python",
   "name": "python3"
  },
  "language_info": {
   "codemirror_mode": {
    "name": "ipython",
    "version": 3
   },
   "file_extension": ".py",
   "mimetype": "text/x-python",
   "name": "python",
   "nbconvert_exporter": "python",
   "pygments_lexer": "ipython3",
   "version": "3.7.12"
  }
 },
 "nbformat": 4,
 "nbformat_minor": 4
}
