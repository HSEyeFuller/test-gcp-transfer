{
 "cells": [
  {
   "cell_type": "code",
   "execution_count": 2,
   "id": "93ae3913",
   "metadata": {},
   "outputs": [
    {
     "name": "stdout",
     "output_type": "stream",
     "text": [
      "The autoreload extension is already loaded. To reload it, use:\n",
      "  %reload_ext autoreload\n"
     ]
    }
   ],
   "source": [
    "%load_ext autoreload\n",
    "%autoreload 2"
   ]
  },
  {
   "cell_type": "code",
   "execution_count": 3,
   "id": "954486c3",
   "metadata": {},
   "outputs": [],
   "source": [
    "import numpy as np\n",
    "from matplotlib import pyplot as plt\n",
    "from matplotlib import cm\n",
    "import os\n",
    "import shutil\n",
    "from VideoGenerator import VideoGenerator\n",
    "from PIL import Image\n",
    "import cv2"
   ]
  },
  {
   "cell_type": "code",
   "execution_count": null,
   "id": "eeac6b5f",
   "metadata": {},
   "outputs": [],
   "source": [
    "generator = VideoGenerator(topNm = 2000)\n",
    "images, cleanImages, maps = generator.generateVideos(1)"
   ]
  },
  {
   "cell_type": "code",
   "execution_count": null,
   "id": "6d8e2e1d",
   "metadata": {},
   "outputs": [],
   "source": [
    "showImage(cleanImages[0][1])\n",
    "showImage(images[0][1])"
   ]
  },
  {
   "cell_type": "code",
   "execution_count": null,
   "id": "a877b8fd",
   "metadata": {},
   "outputs": [],
   "source": [
    "showMap(maps[0][0], dim = 144)"
   ]
  },
  {
   "cell_type": "code",
   "execution_count": null,
   "id": "0f6f77c4",
   "metadata": {},
   "outputs": [],
   "source": [
    "showMap(maps[0][11], dim = 144)"
   ]
  },
  {
   "cell_type": "code",
   "execution_count": null,
   "id": "4134d850",
   "metadata": {},
   "outputs": [],
   "source": [
    "def showMap(depthMap, dim = 48):\n",
    "\n",
    "    pData = np.reshape(depthMap, (dim,dim))\n",
    "\n",
    "    fig = plt.figure(figsize = (5,5))\n",
    "    ax1 = fig.add_subplot(projection='3d')\n",
    "\n",
    "    x = np.arange(0, dim)\n",
    "    y = np.arange(0, dim)\n",
    "    X, Y = np.meshgrid(x, y)\n",
    "    surf = ax1.plot_surface(X, Y, pData, cmap = cm.coolwarm)\n",
    "\n",
    "    ax1.set_zlabel(\"Thickness\" + \" (\" + \"nm\" + \")\")\n",
    "    ax1.set_title('Patient Tear Film Thickness Profile')\n",
    "\n",
    "\n",
    "\n",
    "    return plt.show()\n",
    "\n",
    "def showImage(image, dim = 144):\n",
    "    data = np.reshape(image, (dim,dim,3))\n",
    "    plt.imshow(imRegulate(data), interpolation='nearest')\n",
    "    return plt.show()\n",
    "\n",
    "def saveImage(image, fn, dim = 144):\n",
    "    data = np.reshape(image, (dim,dim,3))\n",
    "    plt.imshow(imRegulate(data), interpolation='nearest')\n",
    "    plt.savefig(f'tmp/{fn}.png')\n",
    "\n",
    "def saveMap(image, fn, dim = 144):\n",
    "    pData = np.reshape(image, (dim,dim))\n",
    "    \n",
    "    fig = plt.figure(figsize = (5,5))\n",
    "    ax1 = fig.add_subplot(projection='3d')\n",
    "    ax1.set_zlim(0, 3000)\n",
    "    x = np.arange(0, dim)\n",
    "    y = np.arange(0, dim)\n",
    "    X, Y = np.meshgrid(x, y)\n",
    "    surf = ax1.plot_surface(X, Y, pData, cmap = cm.coolwarm)\n",
    "    \n",
    "    ax1.set_zlabel(\"Thickness\" + \" (\" + \"nm\" + \")\")\n",
    "    ax1.set_title('Patient Tear Film Thickness Profile')\n",
    "\n",
    "\n",
    "    plt.savefig(f'tmp/{fn}.png')\n",
    "    \n",
    "def imRegulate(data):\n",
    "    m = np.max(data)\n",
    "    mi = np.min(data)\n",
    "    norm = ((data - mi) / (m - mi))*255\n",
    "    return norm.astype(np.uint8)"
   ]
  },
  {
   "cell_type": "code",
   "execution_count": null,
   "id": "3a99dc4a",
   "metadata": {},
   "outputs": [],
   "source": [
    "def saveImages(imgSet):\n",
    " \n",
    "\n",
    "    try:\n",
    "        shutil.rmtree('tmp/')\n",
    "    except:\n",
    "        print(\"tmp/ does not exist\")\n",
    "    \n",
    "    \n",
    "    try:\n",
    "        os. mkdir('tmp/')\n",
    "    except:\n",
    "        print(\"tmp/ exists\")\n",
    "        \n",
    "    try:\n",
    "        os.remove('tmp.zip')\n",
    "    except:\n",
    "        print(\"tmp.zip does not exist\")\n",
    "    for frame in range(imgSet.shape[0]):\n",
    "        saveImage(imgSet[frame], frame)\n",
    "        \n",
    "    shutil.make_archive('tmp', 'zip', 'tmp/')\n",
    "\n",
    "def saveMaps(imgSet):\n",
    "\n",
    "\n",
    "    try:\n",
    "        shutil.rmtree('tmp/')\n",
    "    except:\n",
    "        print(\"tmp/ does not exist\")\n",
    "    \n",
    "    \n",
    "    try:\n",
    "        os. mkdir('tmp/')\n",
    "    except:\n",
    "        print(\"tmp/ exists\")\n",
    "        \n",
    "    try:\n",
    "        os.remove('tmp.zip')\n",
    "    except:\n",
    "        print(\"tmp.zip does not exist\")\n",
    "    for frame in range(imgSet.shape[0]):\n",
    "        saveMap(imgSet[frame], frame)\n",
    "        \n",
    "    shutil.make_archive('tmp', 'zip', 'tmp/')\n",
    "\n",
    "def saveEyeVideo(imgSet):\n",
    "    saveImages(imgSet)\n",
    "    image_folder = 'tmp'\n",
    "    video_name = 'video1.avi'\n",
    "\n",
    "    images = [img for img in os.listdir(image_folder) if img.endswith(\".png\")]\n",
    "    frame = cv2.imread(os.path.join(image_folder, images[0]))\n",
    "    height, width, layers = frame.shape\n",
    "\n",
    "    video = cv2.VideoWriter(video_name, 0, 4, (width,height))\n",
    "\n",
    "    for image in images:\n",
    "        video.write(cv2.imread(os.path.join(image_folder, image)))\n",
    "\n",
    "    cv2.destroyAllWindows()\n",
    "    video.release()\n",
    "    \n",
    "def saveMapVideo(imgSet):\n",
    "    saveMaps(imgSet)\n",
    "    image_folder = 'tmp'\n",
    "    video_name = 'video.avi'\n",
    "\n",
    "    images = [img for img in os.listdir(image_folder) if img.endswith(\".png\")]\n",
    "    frame = cv2.imread(os.path.join(image_folder, images[0]))\n",
    "    height, width, layers = frame.shape\n",
    "\n",
    "    video = cv2.VideoWriter(video_name, 0, 1, (width,height))\n",
    "\n",
    "    for image in images:\n",
    "        video.write(cv2.imread(os.path.join(image_folder, image)))\n",
    "\n",
    "    cv2.destroyAllWindows()\n",
    "    video.release()\n"
   ]
  },
  {
   "cell_type": "code",
   "execution_count": null,
   "id": "0dcab7ed",
   "metadata": {},
   "outputs": [],
   "source": [
    "saveEyeVideo(cleanImages[0])\n",
    "# saveMapVideo(maps[0])"
   ]
  },
  {
   "cell_type": "code",
   "execution_count": null,
   "id": "a7bd6e9d",
   "metadata": {},
   "outputs": [],
   "source": [
    "saveImages(images[0])"
   ]
  },
  {
   "cell_type": "code",
   "execution_count": null,
   "id": "f62f55c4",
   "metadata": {},
   "outputs": [],
   "source": [
    "saveEyeVideo(images[0])"
   ]
  },
  {
   "cell_type": "code",
   "execution_count": null,
   "id": "8abb2537",
   "metadata": {},
   "outputs": [],
   "source": []
  }
 ],
 "metadata": {
  "environment": {
   "name": "tf2-gpu.2-3.mnightly-2021-02-12-debian-10-test",
   "type": "gcloud",
   "uri": "gcr.io/deeplearning-platform-release/tf2-gpu.2-3:mnightly-2021-02-12-debian-10-test"
  },
  "kernelspec": {
   "display_name": "conda_amazonei_mxnet_p36",
   "language": "python",
   "name": "conda_amazonei_mxnet_p36"
  },
  "language_info": {
   "codemirror_mode": {
    "name": "ipython",
    "version": 3
   },
   "file_extension": ".py",
   "mimetype": "text/x-python",
   "name": "python",
   "nbconvert_exporter": "python",
   "pygments_lexer": "ipython3",
   "version": "3.6.13"
  }
 },
 "nbformat": 4,
 "nbformat_minor": 5
}
